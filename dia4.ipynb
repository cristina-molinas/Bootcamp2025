{
 "cells": [
  {
   "cell_type": "code",
   "execution_count": null,
   "id": "757b4821",
   "metadata": {},
   "outputs": [],
   "source": [
    "#EJEMPLO DE DICCIONARIO\n",
    "\n",
    "mi_nombre['nombre']\n",
    "mi_nombre['apellido']\n",
    "#datos de diccionario\n",
    "mi_contacto.keys()\n",
    "mi_contacto.values()\n",
    "mi_contacto.items()\n",
    "\n",
    "\n",
    "\n",
    "\n",
    "\n"
   ]
  },
  {
   "cell_type": "markdown",
   "id": "1d6b4905",
   "metadata": {},
   "source": [
    "Challenge 1 🤺\n",
    "Escribir un programa que cree un diccionario vacío y lo vaya llenado con información sobre una persona (por ejemplo nombre, edad, sexo, teléfono, correo electrónico, etc.) que se le pida al usuario. Cada vez que se añada un nuevo dato debe imprimirse el contenido del diccionario."
   ]
  },
  {
   "cell_type": "code",
   "execution_count": null,
   "id": "d6da187c",
   "metadata": {},
   "outputs": [
    {
     "name": "stdout",
     "output_type": "stream",
     "text": [
      "{'nombre': 'Cristina'}\n",
      "{'nombre': 'Cristina', 'apellido': 'Molinas'}\n",
      "{'nombre': 'Cristina', 'apellido': 'Molinas', 'edad': 25}\n",
      "{'nombre': 'Cristina', 'apellido': 'Molinas', 'edad': 25, 'telefono': 984898164}\n",
      "{'nombre': 'Cristina', 'apellido': 'Molinas', 'edad': 25, 'telefono': 984898164, 'correo': 'crismolinas08'}\n"
     ]
    }
   ],
   "source": [
    "\n",
    "datos_completos ={}\n",
    "\n",
    "nombre = input(\"Ingrese su Nombre\")\n",
    "datos_completos = {'nombre':nombre}\n",
    "print(datos_completos)\n",
    "\n",
    "apellido = input(\"Ingrese su Apellido\")\n",
    "datos_completos = {'nombre':nombre , 'apellido':apellido}\n",
    "print(datos_completos)\n",
    "\n",
    "edad = int(input(\"Ingrese su edad\"))\n",
    "datos_completos = {'nombre':nombre , 'apellido':apellido , 'edad': edad}\n",
    "print(datos_completos)\n",
    "\n",
    "telefono = int(input(\"Ingrese su telefono\"))\n",
    "datos_completos = {'nombre':nombre , 'apellido':apellido , 'edad': edad , 'telefono': telefono}\n",
    "print(datos_completos)\n",
    "\n",
    "correo = input(\"Ingrese su correo electronico\")\n",
    "datos_completos = {'nombre':nombre , 'apellido':apellido , 'edad': edad , 'telefono': telefono , 'correo':  correo}\n",
    "print(datos_completos)\n",
    "\n"
   ]
  },
  {
   "cell_type": "markdown",
   "id": "a2a86386",
   "metadata": {},
   "source": [
    "Challenge 2 🤺\n",
    "Crear una tarjeta personal. El usuario (mediante input) puede elegir:\n",
    "\n",
    "Crear datos nuevos\n",
    "Modificar datos\n",
    "Eliminar datos"
   ]
  },
  {
   "cell_type": "code",
   "execution_count": null,
   "id": "613174ac",
   "metadata": {},
   "outputs": [],
   "source": [
    "\n",
    "tarjeta_personal ={}\n",
    "#Crear datos nuevos\n",
    "tarjeta_personal = {'nombre': input(\"Ingrese su Nombre\"), 'apellido': input(\"Ingrese su apellido\"), 'edad':input(\"Ingrese edad\")}\n",
    "print(tarjeta_personal)\n",
    "\n",
    "#Modificar datos\n",
    "pregunta = input('Deseas modificar o eliminar alguna opcion')\n",
    "if pregunta \n",
    "\n",
    "\n",
    "\n",
    "    print(tarjeta_personal)\n",
    "\n"
   ]
  },
  {
   "cell_type": "markdown",
   "id": "edb469fd",
   "metadata": {},
   "source": [
    "Challenge 3 🤺\n",
    "Crear una agenda de contactos. El usuario puede elegir:\n",
    "\n",
    "Mostrar los contactos\n",
    "Crear contacto\n",
    "Modificar datos del contacto"
   ]
  },
  {
   "cell_type": "code",
   "execution_count": null,
   "id": "f4cc6bcf",
   "metadata": {},
   "outputs": [],
   "source": [
    "agenda_contactos:{\n",
    "    'contacto1': {\n",
    "        'nombre': 'Cristina', 'apellido': 'Molinas', 'telefono': 98467289},\n",
    "    'contacto2': {\n",
    "        'nombre': 'Lujan', 'apellido': 'Acosta', 'telefono': 98424289},\n",
    "    'contacto3': {\n",
    "        'nombre': 'Nicol', 'apellido': 'Lopez', 'telefono': 98258989}   \n",
    "}\n",
    "\n",
    "while "
   ]
  },
  {
   "cell_type": "markdown",
   "id": "4cf5192a",
   "metadata": {},
   "source": [
    "class Perro:\n",
    "    ojos = 2\n",
    "    patas = 2\n",
    "firu = Perro()\n",
    "\n",
    "print(firu.ojos)"
   ]
  },
  {
   "cell_type": "markdown",
   "id": "68d5a952",
   "metadata": {},
   "source": [
    "class Perro:\n",
    "    ojos = 2\n",
    "    patas = 2\n",
    "    def __init__(self, color , raza):\n",
    "        self.color = color\n",
    "        self.raza = raza\n",
    "\n",
    "yuwailer = Perro('marron','delmer')\n",
    "\n",
    "print(yuwailer.raza)"
   ]
  },
  {
   "cell_type": "markdown",
   "id": "35a7b503",
   "metadata": {},
   "source": [
    "class Perro:\n",
    "#Atributos\n",
    "    ojos = 2\n",
    "    patas = 2\n",
    "#atributo de instancia\n",
    "    def __init__(self, color , raza):\n",
    "        self.color = color\n",
    "        self.raza = raza\n",
    "#metodos - acciones que realizan nuestros objetos\n",
    "    def ladrido(self):\n",
    "        print(\"gua gua\")\n",
    "yuwailer = Perro('marron','delmer')\n",
    "\n",
    "print(yuwailer.ladrido())"
   ]
  },
  {
   "cell_type": "markdown",
   "id": "d4f394aa",
   "metadata": {},
   "source": [
    "Challenge 🤺\n",
    "Crear dos métodos para nuestro animal y ejecutar, debe ser algo específico de ese animal.\n",
    "\n",
    "Ejemplo: \"Cuando hablo, digo X\".\n",
    "Ejemplo: \"Cuando me muevo, hago X\"."
   ]
  },
  {
   "cell_type": "markdown",
   "id": "99c7846e",
   "metadata": {},
   "source": [
    "class Gato:\n",
    "    ojos = 2\n",
    "    patas = 4\n",
    "    nariz = 1\n",
    "    orejas = 2\n",
    "\n",
    "    def __init__(self, color , raza):\n",
    "        self.amarillo = color\n",
    "        self.raza = raza\n",
    "        \n",
    "\n",
    "    def saltar(self):\n",
    "        print(\"estoy saltando\")\n",
    "        \n",
    "miso = Gato(\"naranja\" ,'delmer')\n",
    "\n",
    "miso.amarillo\n"
   ]
  },
  {
   "cell_type": "markdown",
   "id": "18546b1e",
   "metadata": {},
   "source": [
    "Challenge 🤺\n",
    "Definir una clase madre que herede a sus clases hijas dos atributos de instancia. Mostrar ambos atributos en pantalla desde los objetos de las clases hijas.\n",
    "\n",
    "Observación: Editar las clases hijas para que no se inicialicen."
   ]
  },
  {
   "cell_type": "code",
   "execution_count": 42,
   "id": "e46e2069",
   "metadata": {},
   "outputs": [
    {
     "data": {
      "text/plain": [
       "'blanco'"
      ]
     },
     "execution_count": 42,
     "metadata": {},
     "output_type": "execute_result"
    }
   ],
   "source": [
    "#definir una clase madre\n",
    "class Conejo:\n",
    "    ojos = 2\n",
    "    nariz = 1\n",
    "    orejas = 2\n",
    "\n",
    "#atributo de instancia\n",
    "    def __init__(self, color , tamanho):\n",
    "        self.color = color\n",
    "        self.tamanho = tamanho\n",
    "\n",
    "    def saltar(self):\n",
    "        return(\"estoy saltando\")\n",
    "        \n",
    "wendy = Conejo(\"blanco\" ,\"grande\",)\n",
    "\n",
    "wendy.color\n",
    "\n"
   ]
  },
  {
   "cell_type": "code",
   "execution_count": 45,
   "id": "c7c89da9",
   "metadata": {},
   "outputs": [
    {
     "name": "stdout",
     "output_type": "stream",
     "text": [
      "estoy saltando\n",
      "Soy Boni y estoy saltando\n"
     ]
    }
   ],
   "source": [
    "class Conejito(Conejo):\n",
    "    cola = 1\n",
    "    \n",
    "    def comer(self):\n",
    "        return\"Come una zanahoria\"\n",
    "\n",
    "boni = Conejito(\"negro\" , \"grande\")\n",
    "print(boni.saltar())\n",
    "print(f\"Soy Boni y {boni.saltar()}\")"
   ]
  },
  {
   "cell_type": "code",
   "execution_count": null,
   "id": "53be46ed",
   "metadata": {},
   "outputs": [],
   "source": [
    "#EJEMPLO\n",
    "class Perro:\n",
    "    patas = 4\n",
    "    ojos = 2\n",
    "    orejas = 2\n",
    "    boca = 1\n",
    "    cola = 1\n",
    "    nariz = 1\n",
    "\n",
    "    def init(self, color, raza):\n",
    "\n",
    "        self.color = color\n",
    "        self.raza = raza\n",
    "\n",
    "    def ladrar(self):\n",
    "        return('Cuando hablo, digo \"Guau, Guau\"')\n",
    "\n",
    "    def movimiento(self):\n",
    "        return('Cuando me muevo, muerdo grrrr')\n",
    "\n",
    "Palermo = Perro(\"Negro\", \"Rottweiler\")\n",
    "print(Palermo.ladrar())\n",
    "print(Palermo.movimiento())\n",
    "\n"
   ]
  },
  {
   "cell_type": "code",
   "execution_count": null,
   "id": "4199e042",
   "metadata": {},
   "outputs": [],
   "source": [
    "class Perrito(Perro):\n",
    "\n",
    "    tamano = \"Mas pequeno que el grande\"\n",
    "    ladrido = \"Mas chirroso\"\n",
    "\n",
    "    def jugar(self):\n",
    "        return 'Me encanta jugar con Dino mi juguete'\n",
    "\n",
    "Choco = Perrito('Negro', 'Rottweiler')\n",
    "print(Choco.jugar())\n",
    "print(Choco.ladrar())\n",
    "print(Choco.movimiento())"
   ]
  },
  {
   "cell_type": "code",
   "execution_count": 51,
   "id": "0a91fcac",
   "metadata": {},
   "outputs": [
    {
     "ename": "TypeError",
     "evalue": "Motos() takes no arguments",
     "output_type": "error",
     "traceback": [
      "\u001b[31m---------------------------------------------------------------------------\u001b[39m",
      "\u001b[31mTypeError\u001b[39m                                 Traceback (most recent call last)",
      "\u001b[36mCell\u001b[39m\u001b[36m \u001b[39m\u001b[32mIn[51]\u001b[39m\u001b[32m, line 15\u001b[39m\n\u001b[32m     12\u001b[39m     asientos = \u001b[32m2\u001b[39m\n\u001b[32m     13\u001b[39m     ventanas = \u001b[32m0\u001b[39m\n\u001b[32m---> \u001b[39m\u001b[32m15\u001b[39m moto1 = \u001b[43mMotos\u001b[49m\u001b[43m(\u001b[49m\u001b[33;43m'\u001b[39;49m\u001b[33;43mKenton\u001b[39;49m\u001b[33;43m'\u001b[39;49m\u001b[43m,\u001b[49m\u001b[33;43m'\u001b[39;49m\u001b[33;43mNegro\u001b[39;49m\u001b[33;43m'\u001b[39;49m\u001b[43m)\u001b[49m\n\u001b[32m     17\u001b[39m \u001b[38;5;28mprint\u001b[39m(moto1.marca)\n\u001b[32m     18\u001b[39m \u001b[38;5;28mprint\u001b[39m(moto1.color)\n",
      "\u001b[31mTypeError\u001b[39m: Motos() takes no arguments"
     ]
    }
   ],
   "source": [
    "class Automovil:\n",
    "    ruedas = 4\n",
    "    volante = 1\n",
    "    ventanas = 4\n",
    "    asientos = 4\n",
    "    def init(self,marca,color):\n",
    "        self.marca = marca\n",
    "        self.color = color\n",
    "\n",
    "class Motos(Automovil):\n",
    "    ruedas = 2\n",
    "    asientos = 2\n",
    "    ventanas = 0\n",
    "\n",
    "moto1 = Motos('Kenton','Negro')\n",
    "\n",
    "print(moto1.marca)\n",
    "print(moto1.color)"
   ]
  }
 ],
 "metadata": {
  "kernelspec": {
   "display_name": "Python 3",
   "language": "python",
   "name": "python3"
  },
  "language_info": {
   "codemirror_mode": {
    "name": "ipython",
    "version": 3
   },
   "file_extension": ".py",
   "mimetype": "text/x-python",
   "name": "python",
   "nbconvert_exporter": "python",
   "pygments_lexer": "ipython3",
   "version": "3.13.3"
  }
 },
 "nbformat": 4,
 "nbformat_minor": 5
}
