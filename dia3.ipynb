{
 "cells": [
  {
   "cell_type": "markdown",
   "id": "cf1ea742",
   "metadata": {},
   "source": [
    "Challenge 1 🤺 - 10m\n",
    "Crear una función que imprima la variable palabra."
   ]
  },
  {
   "cell_type": "code",
   "execution_count": 2,
   "id": "2a9af026",
   "metadata": {},
   "outputs": [
    {
     "name": "stdout",
     "output_type": "stream",
     "text": [
      "Bienvenida\n"
     ]
    }
   ],
   "source": [
    "saludo = ('Bienvenida')\n",
    "print(saludo)"
   ]
  },
  {
   "cell_type": "code",
   "execution_count": 4,
   "id": "31deeb23",
   "metadata": {},
   "outputs": [
    {
     "name": "stdout",
     "output_type": "stream",
     "text": [
      "Bienvenida\n"
     ]
    }
   ],
   "source": [
    "def saludo ():\n",
    "    saludo = ('Bienvenida')\n",
    "    print(saludo)\n",
    "\n",
    "saludo ()"
   ]
  },
  {
   "cell_type": "markdown",
   "id": "cd91437e",
   "metadata": {},
   "source": [
    "Challenge 2 🤺 - 20 min\n",
    "Crear una función que reciba dos letras (parámetros) y que verifique si son iguales:\n",
    "\n",
    "Si son iguales, imprimir \"Las letras son iguales\".\n",
    "\n",
    "De lo contrario, imprimir \"Las letras son diferentes\"."
   ]
  },
  {
   "cell_type": "code",
   "execution_count": 9,
   "id": "502b9968",
   "metadata": {},
   "outputs": [
    {
     "name": "stdout",
     "output_type": "stream",
     "text": [
      "las letras son diferentes\n"
     ]
    }
   ],
   "source": [
    "uno = str(input('Ingresar letra'))\n",
    "dos = str(input('Ingresar letra'))\n",
    "\n",
    "def comparacion (uno , dos):\n",
    "    if uno == dos:\n",
    "        print('las letras son iguales')\n",
    "    else:\n",
    "        print('las letras son diferentes')\n",
    "\n",
    "comparacion(uno , dos)"
   ]
  },
  {
   "cell_type": "code",
   "execution_count": 8,
   "id": "f620011b",
   "metadata": {},
   "outputs": [
    {
     "name": "stdout",
     "output_type": "stream",
     "text": [
      "las letras son iguales\n"
     ]
    }
   ],
   "source": [
    "uno = str(input('Ingresar letra'))\n",
    "dos = str(input('Ingresar letra'))\n",
    "\n",
    "def comparacion (uno , dos):\n",
    "    if uno == dos:\n",
    "        print('las letras son iguales')\n",
    "    elif uno != dos:\n",
    "        print('las letras son diferentes')\n",
    "comparacion(uno , dos)"
   ]
  },
  {
   "cell_type": "code",
   "execution_count": 10,
   "id": "c313d1c3",
   "metadata": {},
   "outputs": [
    {
     "name": "stdout",
     "output_type": "stream",
     "text": [
      "las letras son diferentes\n"
     ]
    }
   ],
   "source": [
    "#ejemplo\n",
    "def comparacion_de_letras(letra1, letra2):\n",
    "    if letra1 == letra2:\n",
    "        print(\"Las letras son iguales\")\n",
    "    else:\n",
    "        print(\"las letras son diferentes\")\n",
    "\n",
    "comparacion_de_letras(\"j\",\"l\")"
   ]
  },
  {
   "cell_type": "markdown",
   "id": "92888630",
   "metadata": {},
   "source": [
    "Crear una función que reciba dos parámetros (una palabra y un número), y que retorne True si el número es igual a la cantidad de letras de la palabra. En caso contrario, que retorne False.\n",
    "\n",
    "Pista: cantidad de letras de una palabra en python"
   ]
  },
  {
   "cell_type": "code",
   "execution_count": null,
   "id": "d30fb826",
   "metadata": {},
   "outputs": [
    {
     "data": {
      "text/plain": [
       "False"
      ]
     },
     "execution_count": 17,
     "metadata": {},
     "output_type": "execute_result"
    }
   ],
   "source": [
    "def contenido(uno, dos):\n",
    "    if len (uno) == (dos):\n",
    "        return True \n",
    "    else:\n",
    "        return False\n",
    "    \n",
    "palabra = str(input('Ingresar palabra'))\n",
    "numero = int(input('Ingresar numero'))\n",
    "\n",
    "contenido (palabra , numero)"
   ]
  },
  {
   "cell_type": "code",
   "execution_count": 19,
   "id": "d4c5cad6",
   "metadata": {},
   "outputs": [
    {
     "data": {
      "text/plain": [
       "False"
      ]
     },
     "execution_count": 19,
     "metadata": {},
     "output_type": "execute_result"
    }
   ],
   "source": [
    "def comparacion(uno, dos):\n",
    "    if len (uno) == (dos):\n",
    "        return True \n",
    "    else:\n",
    "        return False\n",
    "    \n",
    "\n",
    "comparacion ('adios', 4)"
   ]
  },
  {
   "cell_type": "markdown",
   "id": "fd8b6e75",
   "metadata": {},
   "source": [
    "Challenge 5 🤺 - 25m\n",
    "Pedir al usuario que ingrese 1 palabra, luego convertir esa palabra a una lista con sus caracteres con list(). Agregar esa lista de caracteres a una lista llamada palabras_ingresadas. Repetir el proceso 3 veces. Cada vez que se agregue una lista de caracteres, imprimir la lista palabras_ingresadas.\n",
    "\n",
    "Ejemplo del resultado esperado:\n",
    "[['c', 'i', 'e', 'l', 'o']]\n",
    " # Al ingresar la primera palabra\n",
    "[['c', 'i', 'e', 'l', 'o'], ['c', 'a', 'l', 'o', 'r']]\n",
    " # Al ingresar la segunda palabra\n",
    "[['c', 'i', 'e', 'l', 'o'], ['c', 'a', 'l', 'o', 'r'], ['n', 'u', 'b', 'e', 's']]\n",
    " # Al ingresar la tercera palabra"
   ]
  },
  {
   "cell_type": "code",
   "execution_count": null,
   "id": "0612d2ca",
   "metadata": {},
   "outputs": [
    {
     "name": "stdout",
     "output_type": "stream",
     "text": [
      "[['f', 'l', 'o', 'r']]\n",
      "[['f', 'l', 'o', 'r'], ['s', 'i', 'l', 'l', 'a']]\n",
      "[['f', 'l', 'o', 'r'], ['s', 'i', 'l', 'l', 'a'], ['c', 'a', 's', 'a']]\n"
     ]
    }
   ],
   "source": [
    "palabras_ingresadas = [] #agregar una lista de palabras\n",
    "#solicitar al usuario que ingrese una palabra\n",
    "palabra1 = input('Ingese el saludo')\n",
    "palabras_ingresadas.append(list(palabra))\n",
    "print(palabras_ingresadas)\n",
    "\n",
    "palabra2 = input('Ingese el saludo')\n",
    "palabras_ingresadas.append(list(palabra))\n",
    "print(palabras_ingresadas)\n",
    "\n",
    "palabra3 = input('Ingese el saludo')\n",
    "palabras_ingresadas.append(list(palabra))\n",
    "print(palabras_ingresadas)\n"
   ]
  },
  {
   "cell_type": "code",
   "execution_count": 25,
   "id": "befef6a1",
   "metadata": {},
   "outputs": [
    {
     "name": "stdout",
     "output_type": "stream",
     "text": [
      "[['p', 'a', 'n']]\n",
      "[['p', 'a', 'n'], ['l', 'e', 'c', 'h', 'e']]\n",
      "[['p', 'a', 'n'], ['l', 'e', 'c', 'h', 'e'], ['q', 'u', 'e', 's', 'o']]\n"
     ]
    }
   ],
   "source": [
    "palabras_ingresadas = [] #agregar una lista de palabras\n",
    "#solicitar al usuario que ingrese una palabra\n",
    "\n",
    "for i in range(3):\n",
    "    palabra = input('Ingese el saludo')\n",
    "    palabras_ingresadas.append(list(palabra))\n",
    "    print(palabras_ingresadas)"
   ]
  },
  {
   "cell_type": "markdown",
   "id": "32067ae4",
   "metadata": {},
   "source": [
    "Challenge 6 🤺 - 25m\n",
    "Dada la lista de ejemplo: \n",
    "\n",
    "lista = [['h', 'o', 'l', 'i', 's'], ['h', 'e', 'l', 'l', 'o'], ['h', 'a', 'l', 'l', 'o']]\n",
    "\n",
    "Crear una función que imprima una grilla (lista de listas), una línea por cada lista dentro de la lista principal.\n",
    "\n",
    "Ejemplo del resultado esperado:\n",
    "\n",
    "['h', 'o', 'l', 'i', 's']\n",
    "['h', 'e', 'l', 'l', 'o']\n",
    "['h', 'a', 'l', 'l', 'o']"
   ]
  },
  {
   "cell_type": "code",
   "execution_count": null,
   "id": "1edff5bb",
   "metadata": {},
   "outputs": [
    {
     "name": "stdout",
     "output_type": "stream",
     "text": [
      "['hola', 'hello', 'hallo', ['h', 'o', 'l', 'a'], ['h', 'o', 'l', 'a'], ['h', 'o', 'l', 'a']]\n",
      "['hola', 'hello', 'hallo', ['h', 'o', 'l', 'a'], ['h', 'o', 'l', 'a'], ['h', 'o', 'l', 'a']]\n",
      "['hola', 'hello', 'hallo', ['h', 'o', 'l', 'a'], ['h', 'o', 'l', 'a'], ['h', 'o', 'l', 'a']]\n"
     ]
    }
   ],
   "source": [
    "\n",
    "lista_de_palabras = ['h', 'o', 'l', 'i', 's']\n",
    "    lista_de_lista= input(lista_de_palabras)\n",
    "    \n",
    "\n"
   ]
  },
  {
   "cell_type": "markdown",
   "id": "b17f4560",
   "metadata": {},
   "source": [
    "CHALLENGE\n",
    "iniciar juego\n",
    "definir palabra_a_encontrar\n",
    "definir cantidad_de_letras\n",
    "definir intentos\n",
    "crear grilla"
   ]
  },
  {
   "cell_type": "code",
   "execution_count": null,
   "id": "c01803e9",
   "metadata": {},
   "outputs": [],
   "source": [
    "#definir la palabra completa\n",
    "palabra_secreta= 'rosas'  #input('ingresar palabra secreta: ')\n",
    "\n",
    "#definir cantidad de letra\n",
    "cantidad_de_letras = 5  #len(palabra_secreta)\n",
    "\n",
    "#definir intentos\n",
    "total_intentos = 6\n",
    "\n",
    "#inicializar lista de progreso\n",
    "letras_verificadas = []\n",
    "\n",
    "#mostrar welcome\n",
    "\n",
    "print('bienvenido al juego adivina la palabra penguin edition...')\n",
    "\n",
    "#funcion del juego\n",
    "def validar_datos(palabra_definida, palabra_a_ingresar):\n",
    "    #verificamos si coinciden los valores y posiciones y damos el formato adecuado\n",
    "    for posicion in range(cantidad_de_letras):\n",
    "        verifica_valor_y_posicion = palabra_definida[posicion] == palabra_a_ingresar[posicion]\n",
    "        verifica_valor = palabra_a_ingresar[posicion] in palabra_definida\n",
    "\n",
    "        #adjuntar [] si coincide en valor y posicion\n",
    "        if verifica_valor_y_posicion:\n",
    "            letras_verificadas.append('['+ palabra_a_ingresar[posicion] +']')\n",
    "        elif verifica_valor:\n",
    "            letras_verificadas.append('(' + palabra_a_ingresar[posicion] + ')')\n",
    "        else:\n",
    "            letras_verificadas.append(palabra_a_ingresar[posicion])\n",
    "    return letras_verificadas\n",
    "\n",
    "#programa de intentos\n",
    "\n",
    "while total_intentos > 0:\n",
    "    palabra_usuario = input('ingrese la palabra: ')\n",
    "    if palabra_usuario == palabra_secreta:\n",
    "        print('ganaste')\n",
    "        print(f'la palabra es: {palabra_secreta}')\n",
    "        break\n",
    "    else:\n",
    "        total_intentos = total_intentos - 1 \n",
    "        estatus = validar_datos(palabra_secreta, palabra_usuario)\n",
    "        print (estatus)\n",
    "        print(f'quedan {total_intentos} intentos')\n",
    "        if total_intentos == 0:\n",
    "            print('game over')\n",
    "            break"
   ]
  },
  {
   "cell_type": "markdown",
   "id": "84894cea",
   "metadata": {},
   "source": [
    "CHALLENGE\n",
    "iniciar juego\n",
    "definir palabra_a_encontrar\n",
    "definir cantidad_de_letras\n",
    "definir intentos\n",
    "crear grilla"
   ]
  },
  {
   "cell_type": "code",
   "execution_count": null,
   "id": "13d4679c",
   "metadata": {},
   "outputs": [
    {
     "name": "stdout",
     "output_type": "stream",
     "text": [
      "bienvenido al juego adivina la palabra penguin edition...\n",
      "      Las reglas son simples: adivina la palabra oculta en 6 intentos.\n",
      "      Pista: la palabra termina en: s\n",
      "      Deben ser palabras con 5 letras\n",
      "\n",
      "['[r]', '[o]', 'j', '[a]', '[s]']\n",
      "quedan 5 intentos\n",
      "['[r]', '[o]', 'c', '[a]', '[s]']\n",
      "quedan 4 intentos\n",
      "['(s)', 'i', 'e', 't', 'e']\n",
      "quedan 3 intentos\n",
      "ganaste\n",
      "la palabra es: rosas\n"
     ]
    }
   ],
   "source": [
    "#definir la palabra completa\n",
    "palabra_secreta= 'rosas'  #input('ingresar palabra secreta: ')\n",
    "\n",
    "#definir cantidad de letra\n",
    "cantidad_de_letras = 5  #len(palabra_secreta)\n",
    "\n",
    "#definir intentos\n",
    "total_intentos = 6\n",
    "\n",
    "#mostrar welcome\n",
    "pista= list(palabra_secreta)\n",
    "pista_final = pista.pop()\n",
    "\n",
    "print(f'''Bienvenido al juego adivina la palabra penguin edition...\n",
    "      Las reglas son simples: adivina la palabra oculta en {total_intentos} intentos.\n",
    "      Pista: la palabra termina en: {pista_final}\n",
    "      Deben ser palabras con {cantidad_de_letras} letras.\n",
    "''' )##\n",
    "\n",
    "#funcion del juego\n",
    "def validar_datos(palabra_definida, palabra_a_ingresar):\n",
    "    #inicializar lista de progreso\n",
    "    letras_verificadas = []\n",
    "    #verificamos si coinciden los valores y posiciones y damos el formato adecuado\n",
    "    for posicion in range(cantidad_de_letras):\n",
    "        verifica_valor_y_posicion = palabra_definida[posicion] == palabra_a_ingresar[posicion]\n",
    "        verifica_valor = palabra_a_ingresar[posicion] in palabra_definida\n",
    "\n",
    "        #adjuntar [] si coincide en valor y posicion\n",
    "        if verifica_valor_y_posicion:\n",
    "            letras_verificadas.append('['+ palabra_a_ingresar[posicion] +']')\n",
    "        elif verifica_valor:\n",
    "            letras_verificadas.append('(' + palabra_a_ingresar[posicion] + ')')\n",
    "        else:\n",
    "            letras_verificadas.append(palabra_a_ingresar[posicion])\n",
    "    return letras_verificadas\n",
    "\n",
    "#programa de intentos\n",
    "\n",
    "while total_intentos > 0:\n",
    "    palabra_usuario = input('ingrese la palabra: ')\n",
    "    if palabra_usuario == palabra_secreta:\n",
    "        print('ganaste')\n",
    "        print(f'la palabra es: {palabra_secreta}')\n",
    "        break\n",
    "    else:\n",
    "        total_intentos = total_intentos - 1 \n",
    "        estatus = validar_datos(palabra_secreta, palabra_usuario)\n",
    "        print (estatus)\n",
    "        print(f'quedan {total_intentos} intentos')\n",
    "        if total_intentos == 0:\n",
    "            print('game over')\n",
    "            break"
   ]
  },
  {
   "cell_type": "code",
   "execution_count": 39,
   "id": "1d333126",
   "metadata": {},
   "outputs": [
    {
     "name": "stdout",
     "output_type": "stream",
     "text": [
      "bienvenido al juego adivina la palabra penguin edition...\n",
      "      Las reglas son simples: adivina la palabra oculta en 6 intentos.\n",
      "      pista: la palabra termina en: s\n",
      "      deben ser palabras con 5 letras\n",
      "\n",
      "['[r]', '[o]', 'c', '[a]', '[s]']\n",
      "quedan 5 intentos\n",
      "['[r]', '[o]', 'c', '[a]', '[s]']\n",
      "['[r]', '[o]', 'j', '[a]', '[s]']\n",
      "quedan 4 intentos\n",
      "['[r]', '[o]', 'c', '[a]', '[s]']\n",
      "['[r]', '[o]', 'j', '[a]', '[s]']\n",
      "['t', '[o]', 'd', '[a]', '[s]']\n",
      "quedan 3 intentos\n",
      "WINNER!!!!!\n",
      "la palabra es: rosas\n"
     ]
    }
   ],
   "source": [
    "#definir la palabra completa\n",
    "palabra_secreta= 'rosas'  \n",
    "#input('ingresar palabra secreta: ') para despues mejorar\n",
    "\n",
    "\n",
    "#definir cantidad de letra\n",
    "cantidad_de_letras = 5  \n",
    "#len(palabra_secreta) (por si se da el input)\n",
    "\n",
    "#definir intentos\n",
    "total_intentos = 6\n",
    "\n",
    "#inicializar lista de progreso\n",
    "letras_verificadas = []\n",
    "\n",
    "#generar una pista (el ultimo caracter, tomalo o dejalo)\n",
    "pista= list(palabra_secreta)\n",
    "pista_final = pista.pop()\n",
    "#mostrar welcome\n",
    "print(f'''bienvenido al juego adivina la palabra penguin edition...\n",
    "      Las reglas son simples: adivina la palabra oculta en {total_intentos} intentos.\n",
    "      pista: la palabra termina en: {pista_final}\n",
    "      deben ser palabras con {cantidad_de_letras} letras\n",
    "''' )\n",
    "\n",
    "\n",
    "\n",
    "#funcion de verificacion para ayudar al usuario a encontrar la palabra\n",
    "def validar_datos(palabra_definida, palabra_a_ingresar):\n",
    "    letras_verificadas = []\n",
    "    #verificamos si coinciden los valores y posiciones y damos el formato adecuado '[]' para posicion y valor correcto y '()' para valor correcto posicion equivocada\n",
    "    for posicion in range(cantidad_de_letras):\n",
    "        verifica_valor_y_posicion = palabra_definida[posicion] == palabra_a_ingresar[posicion]\n",
    "        verifica_valor = palabra_a_ingresar[posicion] in palabra_definida\n",
    "        #adjuntar [] si coincide en valor y posicion\n",
    "        if verifica_valor_y_posicion:\n",
    "            letras_verificadas.append('['+ palabra_a_ingresar[posicion] +']')\n",
    "        elif verifica_valor:#adjuntar () si coincide en valor pero no posicion\n",
    "            letras_verificadas.append('(' + palabra_a_ingresar[posicion] + ')')\n",
    "        else: #sino asi mismo vuelve a imprimirse el caracter\n",
    "            letras_verificadas.append(palabra_a_ingresar[posicion])\n",
    "    return letras_verificadas #['h', 'o', 'l', 'i', 's']\n",
    "\n",
    "\n",
    "##funcion para mostrar historico\n",
    "def imprimir_con_salto(lista_a_imprimir):\n",
    "    for i in lista_a_imprimir:\n",
    "        lista = list(i)\n",
    "        print(lista)\n",
    "\n",
    "estatus =[]\n",
    "#programa de intentos\n",
    "# aqui empieza realmente el juego\n",
    "while True:\n",
    "    palabra_usuario = input('ingrese la palabra: ') # ingresa aqui recien el valor\n",
    "    palabra_usuario = palabra_usuario.lower() #por si escribe en mayuscula el \n",
    "    if palabra_usuario == palabra_secreta: #si coincide entonces ganaste y chau\n",
    "        print('WINNER!!!!!')\n",
    "        print(f'la palabra es: {palabra_secreta}')  \n",
    "        break\n",
    "    else: #si no ganÃ³ ahi recien entra en la funcion de pistas por verificacion\n",
    "        total_intentos = total_intentos - 1  #restamos vidas\n",
    "        estatus.append(validar_datos(palabra_secreta, palabra_usuario)) #estatus means las pistas de valor y posicion\n",
    "        imprimir_con_salto(estatus)\n",
    "        print(f'quedan {total_intentos} intentos')\n",
    "        if total_intentos == 0: \n",
    "            print('game over')\n",
    "            break"
   ]
  }
 ],
 "metadata": {
  "kernelspec": {
   "display_name": "Python 3",
   "language": "python",
   "name": "python3"
  },
  "language_info": {
   "codemirror_mode": {
    "name": "ipython",
    "version": 3
   },
   "file_extension": ".py",
   "mimetype": "text/x-python",
   "name": "python",
   "nbconvert_exporter": "python",
   "pygments_lexer": "ipython3",
   "version": "3.13.3"
  }
 },
 "nbformat": 4,
 "nbformat_minor": 5
}
