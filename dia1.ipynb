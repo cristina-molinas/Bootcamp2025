{
 "cells": [
  {
   "cell_type": "code",
   "execution_count": 1,
   "id": "866aa82a",
   "metadata": {},
   "outputs": [
    {
     "name": "stdout",
     "output_type": "stream",
     "text": [
      "Hola mundo\n"
     ]
    }
   ],
   "source": [
    "print(\"Hola mundo\")"
   ]
  },
  {
   "cell_type": "code",
   "execution_count": 3,
   "id": "f57d3c7e",
   "metadata": {},
   "outputs": [
    {
     "name": "stdout",
     "output_type": "stream",
     "text": [
      "Cristina\n",
      "Molinas\n"
     ]
    }
   ],
   "source": [
    "nombre =\"Cristina\"\n",
    "apellido = \"Molinas\"\n",
    "print (nombre)\n",
    "print (apellido)"
   ]
  },
  {
   "cell_type": "code",
   "execution_count": null,
   "id": "c87ee5d6",
   "metadata": {},
   "outputs": [
    {
     "name": "stdout",
     "output_type": "stream",
     "text": [
      "35000\n",
      "30000\n"
     ]
    }
   ],
   "source": [
    "# Suma\n",
    "precio_total = 15000+20000\n",
    "print(precio_total)\n",
    "\n",
    "precio_descuento = precio_total - 5000\n",
    "print(precio_descuento)\n",
    "\n",
    "precio_gaseosa= 19000\n",
    "cantidad_gaseosa= 4\n",
    "cantidad_personas= 15\n"
   ]
  },
  {
   "cell_type": "markdown",
   "id": "4d332eb4",
   "metadata": {},
   "source": [
    "Suma: asignar dos números en dos variables diferentes cantidad_de_manzanas y cantidad_de_naranjas. Luego sumar ambas variables en cantidad_de_frutas. Imprimir la última variable.\n",
    "\n",
    "Resta: asignar un valor numérico a la variable frutas_vendidas. Luego, asignar la resta entre cantidad_de_frutas y frutas_vendidas a la variable frutas_restantes. Imprimir la última variable.\n",
    "\n",
    "\n",
    "\n",
    "\n"
   ]
  },
  {
   "cell_type": "code",
   "execution_count": 21,
   "id": "ce6698de",
   "metadata": {},
   "outputs": [
    {
     "name": "stdout",
     "output_type": "stream",
     "text": [
      "FRUTERIA S.A\n",
      "Total de frutas\n",
      "30\n",
      "Total de frutas vendidas\n",
      "19\n",
      "frutas restantes\n",
      "11\n"
     ]
    }
   ],
   "source": [
    "# Nombre de la empresa\n",
    "nombre =\"FRUTERIA S.A\"\n",
    "print (nombre)\n",
    "descripcion =\"Total de frutas\"\n",
    "print (descripcion)\n",
    "frutilla = 20\n",
    "uva= 10\n",
    "cantidad= frutilla + uva\n",
    "print(cantidad)\n",
    "#suma\n",
    "total= \"Total de frutas vendidas\"\n",
    "print (total)\n",
    "frutas_vendidas= 10 + 9\n",
    "print(frutas_vendidas)\n",
    "\n",
    "#resta\n",
    "frutas_rest= \"frutas restantes\"\n",
    "print (frutas_rest)\n",
    "frutas_restantes= cantidad - frutas_vendidas\n",
    "print(frutas_restantes)\n",
    "\n",
    "\n"
   ]
  },
  {
   "cell_type": "code",
   "execution_count": 31,
   "id": "f9f81a0d",
   "metadata": {},
   "outputs": [
    {
     "name": "stdout",
     "output_type": "stream",
     "text": [
      "Hola, Mi nombre es: Aracely Estigarribia, mucho gusto\n"
     ]
    }
   ],
   "source": [
    "nombre= \"Aracely\"\n",
    "apellido= \"Estigarribia\"\n",
    "print(f\"Hola, Mi nombre es: {nombre} {apellido}, mucho gusto\")"
   ]
  },
  {
   "cell_type": "code",
   "execution_count": 34,
   "id": "362e3e2a",
   "metadata": {},
   "outputs": [
    {
     "name": "stdout",
     "output_type": "stream",
     "text": [
      "la suma de los numeros: 8\n"
     ]
    }
   ],
   "source": [
    "numero1= int(input (\"ingresa un numero\"))\n",
    "numero2= int(input(\"ingresa otro numero\"))\n",
    "suma= numero1 + numero2\n",
    "print(\"la suma de los numeros:\", suma)"
   ]
  },
  {
   "cell_type": "code",
   "execution_count": 37,
   "id": "b9b45486",
   "metadata": {},
   "outputs": [
    {
     "name": "stdout",
     "output_type": "stream",
     "text": [
      "abrir el pan\n",
      "agregar jamon\n",
      "agregar queso\n",
      "cerrar pan\n",
      "listo\n",
      "abrir el pan\n",
      "agregar jamon\n",
      "agregar queso\n",
      "cerrar pan\n",
      "listo\n"
     ]
    }
   ],
   "source": [
    "# funciones\n",
    "def preparar_sandwich():\n",
    "    print('abrir el pan')\n",
    "    print('agregar jamon')\n",
    "    print('agregar queso')\n",
    "    print('cerrar pan')\n",
    "    print('listo')\n",
    "\n",
    "preparar_sandwich()\n",
    "preparar_sandwich()"
   ]
  },
  {
   "cell_type": "code",
   "execution_count": 40,
   "id": "a7b19b27",
   "metadata": {},
   "outputs": [
    {
     "name": "stdout",
     "output_type": "stream",
     "text": [
      "comprar las verduras\n",
      "lavar las verduras\n",
      "cortar el repollo\n",
      "cortar la cebolla\n",
      "poner el adereso\n",
      "listo\n",
      "comprar las verduras\n",
      "lavar las verduras\n",
      "cortar el repollo\n",
      "cortar la cebolla\n",
      "poner el adereso\n",
      "listo\n",
      "comprar las verduras\n",
      "lavar las verduras\n",
      "cortar el repollo\n",
      "cortar la cebolla\n",
      "poner el adereso\n",
      "listo\n"
     ]
    }
   ],
   "source": [
    "def preparar_una_ensalada():\n",
    "    print('comprar las verduras')\n",
    "    print('lavar las verduras')\n",
    "    print('cortar el repollo')\n",
    "    print('cortar la cebolla')\n",
    "    print('poner el adereso')\n",
    "    print('listo')\n",
    "\n",
    "preparar_una_ensalada()\n",
    "preparar_una_ensalada()\n",
    "preparar_una_ensalada()"
   ]
  },
  {
   "cell_type": "code",
   "execution_count": 41,
   "id": "81e097f2",
   "metadata": {},
   "outputs": [
    {
     "name": "stdout",
     "output_type": "stream",
     "text": [
      "abrir el pan\n",
      "agregarhuevo\n",
      "cerrar pan\n",
      "listo\n",
      "abrir el pan\n",
      "agregartomate y lechuga\n",
      "cerrar pan\n",
      "listo\n"
     ]
    }
   ],
   "source": [
    "def preparar_sandwich(ingrediente):\n",
    "    print('abrir el pan')\n",
    "    print(f'agregar{ingrediente}')\n",
    "    print('cerrar pan')\n",
    "    print('listo')\n",
    "\n",
    "preparar_sandwich('huevo')\n",
    "preparar_sandwich('tomate y lechuga')"
   ]
  },
  {
   "cell_type": "code",
   "execution_count": 44,
   "id": "2d08aa7c",
   "metadata": {},
   "outputs": [
    {
     "name": "stdout",
     "output_type": "stream",
     "text": [
      "verificar el telefono\n",
      "telefono A24\n",
      "obtener resultado\n",
      "Listo!\n",
      "verificar el telefono\n",
      "telefono S21\n",
      "obtener resultado\n",
      "Listo!\n"
     ]
    }
   ],
   "source": [
    "def reparar_un_telefono(modelo):\n",
    "    print('verificar el telefono')\n",
    "    print(f'telefono {modelo}')\n",
    "    print('obtener resultado')\n",
    "    print('Listo!')\n",
    "\n",
    "reparar_un_telefono('A24')\n",
    "reparar_un_telefono('S21')"
   ]
  },
  {
   "cell_type": "code",
   "execution_count": 47,
   "id": "767f9d29",
   "metadata": {},
   "outputs": [
    {
     "name": "stdout",
     "output_type": "stream",
     "text": [
      "hacer el bizcocho\n",
      "elegir sabor: chocolate\n",
      "colocar merengue\n",
      "embazar\n",
      "Listo!\n",
      "\n",
      "hacer el bizcocho\n",
      "elegir sabor: frutilla\n",
      "colocar merengue\n",
      "embazar\n",
      "Listo!\n"
     ]
    }
   ],
   "source": [
    "def reparar_un_pastel(sabor):\n",
    "    print('hacer el bizcocho')\n",
    "    print(f'elegir sabor: {sabor}')\n",
    "    print('colocar merengue')\n",
    "    print('embazar')\n",
    "    print('Listo!')\n",
    "\n",
    "reparar_un_pastel('chocolate')\n",
    "print(\"\")\n",
    "reparar_un_pastel('frutilla')"
   ]
  },
  {
   "cell_type": "code",
   "execution_count": null,
   "id": "a4af182d",
   "metadata": {},
   "outputs": [],
   "source": []
  }
 ],
 "metadata": {
  "kernelspec": {
   "display_name": "Python 3",
   "language": "python",
   "name": "python3"
  },
  "language_info": {
   "codemirror_mode": {
    "name": "ipython",
    "version": 3
   },
   "file_extension": ".py",
   "mimetype": "text/x-python",
   "name": "python",
   "nbconvert_exporter": "python",
   "pygments_lexer": "ipython3",
   "version": "3.13.3"
  }
 },
 "nbformat": 4,
 "nbformat_minor": 5
}
