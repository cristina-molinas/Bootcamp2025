{
 "cells": [
  {
   "cell_type": "code",
   "execution_count": null,
   "id": "7013e132",
   "metadata": {},
   "outputs": [],
   "source": [
    "def saludo_bienvenido(nombre):\n",
    "    usuario = input()\n"
   ]
  },
  {
   "cell_type": "markdown",
   "id": "54884c62",
   "metadata": {},
   "source": [
    "CONDICIONES\n",
    "ES LA FORMA EN LA QUE SE EJECUTA\n"
   ]
  },
  {
   "cell_type": "code",
   "execution_count": 12,
   "id": "6c7619ab",
   "metadata": {},
   "outputs": [
    {
     "name": "stdout",
     "output_type": "stream",
     "text": [
      "juguito nomas\n"
     ]
    }
   ],
   "source": [
    "edad= 15\n",
    "if edad > 18 and edad >21: \n",
    "    print(\"podes tomar pero no comprar\")\n",
    "elif edad <18:\n",
    "    print(\"juguito nomas\")\n",
    "else: \n",
    "    print(\"hace lo que quieras\")"
   ]
  },
  {
   "cell_type": "code",
   "execution_count": null,
   "id": "f29a4639",
   "metadata": {},
   "outputs": [],
   "source": [
    "def chequear_edad(edad_laboral):\n",
    "    "
   ]
  },
  {
   "cell_type": "markdown",
   "id": "6e0e93f4",
   "metadata": {},
   "source": [
    "Challenge 🤺 - 30m\n",
    "#Escribir un programa en el que se pregunte al usuario por una temperatura (en grados Celsius), imprima la temperatura escrita, y luego clasificar la temperatura ingresada en los siguientes niveles:\n",
    "\n",
    "Entre -10 y 18 grados, que imprima \"Fresquete\".\n",
    "Entre 19 y 30 grados, que imprima \"Calor'i\".\n",
    "Entre 31 y 45 grados, que imprima \"Hakuuuuuu\".\n",
    "Para todo lo demás, imprimir \"Ñamano mba'e!\".\n"
   ]
  },
  {
   "cell_type": "code",
   "execution_count": 21,
   "id": "8b452ca7",
   "metadata": {},
   "outputs": [
    {
     "name": "stdout",
     "output_type": "stream",
     "text": [
      "temperatura actual, 6\n",
      "fresquete\n"
     ]
    }
   ],
   "source": [
    "#resultado\n",
    "temperatura=int(input('ingrese la temperatura'))\n",
    "print(f'temperatura actual, {temperatura}')\n",
    "if  -10<= temperatura <=18:\n",
    "        print('fresquete')\n",
    "elif 19 <= temperatura <=39:\n",
    "        print('calor i')\n",
    "elif 31<= temperatura <=45:\n",
    "        print('Hakuuuuuu')\n",
    "else:\n",
    "        print(\"Ñamano mba'e\")\n",
    "\n"
   ]
  },
  {
   "cell_type": "code",
   "execution_count": null,
   "id": "50c4a57d",
   "metadata": {},
   "outputs": [],
   "source": [
    "while True:\n",
    "    numero_\n"
   ]
  },
  {
   "cell_type": "markdown",
   "id": "db731a7a",
   "metadata": {},
   "source": [
    "Challenge 🤺 - 20m\n",
    "Escribir un programa que almacene una contraseña en una variable, y pregunte al usuario por la contraseña hasta que introduzca la contraseña correcta.\n",
    "\n",
    "Cuando el usuario ingrese la contrasena correcta, imprimir un mensaje secreto."
   ]
  },
  {
   "cell_type": "code",
   "execution_count": 23,
   "id": "efda4664",
   "metadata": {},
   "outputs": [
    {
     "name": "stdout",
     "output_type": "stream",
     "text": [
      "contraseña incorrecta\n",
      "contraseña incorrecta\n",
      "contraseña incorrecta\n",
      "contraseña correcta\n"
     ]
    }
   ],
   "source": [
    "contraseña= 2356\n",
    "while True:\n",
    "    contraseña_usuario = int(input('introduce la contraseña'))\n",
    "    if contraseña_usuario == contraseña:\n",
    "        print('contraseña correcta')\n",
    "        break\n",
    "    else:\n",
    "        print('contraseña incorrecta')\n",
    "    \n"
   ]
  },
  {
   "cell_type": "markdown",
   "id": "f1e261f2",
   "metadata": {},
   "source": [
    "\n",
    "Challenge 🤺 - 20m\n",
    "Crear una lista de 5 elementos. Luego, seguir los siguientes pasos.\n",
    "\n",
    "Agregar un elemento al final de la lista.\n",
    "\n",
    "Modificar el segundo elemento.\n",
    "\n",
    "Eliminar el tercer elemento."
   ]
  },
  {
   "cell_type": "code",
   "execution_count": 30,
   "id": "7943fcca",
   "metadata": {},
   "outputs": [
    {
     "name": "stdout",
     "output_type": "stream",
     "text": [
      "['tomate', 'locote', 'cebolla', 'ajo', 'papa']\n",
      "['tomate', 'locote', 'cebolla', 'ajo', 'papa', 'zanahoria']\n",
      "['tomate', 'remolacha', 'cebolla', 'ajo', 'papa', 'zanahoria']\n",
      "['tomate', 'remolacha', 'ajo', 'papa', 'zanahoria']\n"
     ]
    }
   ],
   "source": [
    "#elementos\n",
    "lista_verduras= ['tomate','locote','cebolla', 'ajo','papa']\n",
    "print(lista_verduras)\n",
    "#agregar elemento\n",
    "lista_verduras.append('zanahoria') \n",
    "print(lista_verduras)\n",
    "#modificar elemento\n",
    "lista_verduras[1]=('remolacha')\n",
    "print(lista_verduras)\n",
    "#eliminar elemento\n",
    "lista_verduras.pop(2)\n",
    "print(lista_verduras)\n"
   ]
  },
  {
   "cell_type": "code",
   "execution_count": 32,
   "id": "fd2d9bda",
   "metadata": {},
   "outputs": [
    {
     "name": "stdout",
     "output_type": "stream",
     "text": [
      "hola\n",
      "hola\n",
      "hola\n",
      "hola\n",
      "hola\n"
     ]
    }
   ],
   "source": [
    "for i in range(5):\n",
    "    print('hola')"
   ]
  },
  {
   "cell_type": "markdown",
   "id": "681c2ac3",
   "metadata": {},
   "source": [
    "Challenge 🤺 - 20m\n",
    "Escribir un programa que itere en un rango de 10 veces. Por cada iteracion multiplicar el iterador por dos e imprimir el resultado."
   ]
  },
  {
   "cell_type": "code",
   "execution_count": 35,
   "id": "abaae81f",
   "metadata": {},
   "outputs": [
    {
     "name": "stdout",
     "output_type": "stream",
     "text": [
      "0\n",
      "2\n",
      "4\n",
      "6\n",
      "8\n",
      "10\n",
      "12\n",
      "14\n",
      "16\n",
      "18\n"
     ]
    }
   ],
   "source": [
    "#rango\n",
    "for cantidad in range(10):\n",
    "#interacion\n",
    "    resultado= cantidad*2\n",
    "#impresion\n",
    "    print(resultado)"
   ]
  },
  {
   "cell_type": "markdown",
   "id": "a4a4acc2",
   "metadata": {},
   "source": [
    "Challenge 🤺 - 20m\n",
    "Recorrer los elementos de una lista de marcas e imprimir cada marca solamente si tiene 6 letras o más."
   ]
  },
  {
   "cell_type": "code",
   "execution_count": 38,
   "id": "08176825",
   "metadata": {},
   "outputs": [
    {
     "name": "stdout",
     "output_type": "stream",
     "text": [
      "personal\n",
      "adidas\n"
     ]
    }
   ],
   "source": [
    "#crear una lista\n",
    "lista_marcas=['tigo', 'personal','claro','puma', 'adidas']\n",
    "#recorrer la lista de marcas\n",
    "for marca in lista_marcas:\n",
    "#crear una condicion\n",
    "     if len(marca) >=6: #len devuelve la cantidad de elementos\n",
    "#imprimir solamente los correctos\n",
    "        print(marca)"
   ]
  },
  {
   "cell_type": "markdown",
   "id": "c6c99def",
   "metadata": {},
   "source": [
    "Challenge 🤺 - 15m\n",
    "Solicitar al usuario que ingrese una frase.\n",
    "\n",
    "Imprimir un mensaje cada vez que se encuentre una letra \"o\"."
   ]
  },
  {
   "cell_type": "code",
   "execution_count": 49,
   "id": "4511e296",
   "metadata": {},
   "outputs": [
    {
     "name": "stdout",
     "output_type": "stream",
     "text": [
      "encontre la letra 1\n",
      "encontre la letra 2\n",
      "encontre la letra 3\n",
      "encontre la letra 4\n"
     ]
    }
   ],
   "source": [
    "contador= 0\n",
    "ingrese_frase= input('Escribe la frase')\n",
    "for frase in ingrese_frase:\n",
    "    if frase  =='o':\n",
    "        contador+=1\n",
    "        print(f'encontre la letra {contador}')"
   ]
  },
  {
   "cell_type": "code",
   "execution_count": null,
   "id": "171b5347",
   "metadata": {},
   "outputs": [
    {
     "name": "stdout",
     "output_type": "stream",
     "text": [
      "encontre la o\n"
     ]
    }
   ],
   "source": [
    "#PRACTICAR MAS\n",
    "ingrese_frase= input('Escribe la frase')\n",
    "for frase in ingrese_frase:\n",
    "    if frase  =='o':\n",
    "        print(f'encontre la {frase}')"
   ]
  },
  {
   "cell_type": "markdown",
   "id": "29fc87d8",
   "metadata": {},
   "source": [
    "# #lista dd ejemplo\n",
    "lista_ejemplo = [['h', 'o', 'l', 'i', 's'], ['h', 'e', 'l', 'l', 'o'], ['h', 'a', 'l', 'l', 'o']]\n",
    "\n",
    "# #crear funcion que imprima la lista de listas una linea por cada lista.\n",
    "def imprimir_con_salto(lista_a_imprimir):\n",
    "    for i in lista_a_imprimir:\n",
    "        lista = list(i)\n",
    "        print(lista)\n",
    "\n",
    "imprimir_con_salto(lista_ejemplo)"
   ]
  },
  {
   "cell_type": "code",
   "execution_count": null,
   "id": "66cd66ae",
   "metadata": {},
   "outputs": [],
   "source": [
    "intentos = 3\n",
    "while intentos >0:\n",
    "    print(f'te quedan {intentos} intentos')\n",
    "    palabra = input('ingrese la palabra')\n",
    "    intentos = intentos -1\n",
    "\n",
    "print('te quedaste sin intentos')"
   ]
  },
  {
   "cell_type": "code",
   "execution_count": null,
   "id": "55712791",
   "metadata": {},
   "outputs": [],
   "source": []
  }
 ],
 "metadata": {
  "kernelspec": {
   "display_name": "Python 3",
   "language": "python",
   "name": "python3"
  },
  "language_info": {
   "codemirror_mode": {
    "name": "ipython",
    "version": 3
   },
   "file_extension": ".py",
   "mimetype": "text/x-python",
   "name": "python",
   "nbconvert_exporter": "python",
   "pygments_lexer": "ipython3",
   "version": "3.13.3"
  }
 },
 "nbformat": 4,
 "nbformat_minor": 5
}
